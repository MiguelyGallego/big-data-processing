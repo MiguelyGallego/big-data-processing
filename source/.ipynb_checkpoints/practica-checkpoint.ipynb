{
 "cells": [
  {
   "cell_type": "code",
   "execution_count": 2,
   "id": "d548da84",
   "metadata": {},
   "outputs": [],
   "source": [
    "import pyspark\n",
    "\n",
    "#Creamos una sesion de spark\n",
    "from pyspark.sql import SparkSession\n",
    "\n",
    "#Creamos un objeto de spark session\n",
    "spark = SparkSession.builder.appName(\"pysparkdf\").getOrCreate()"
   ]
  },
  {
   "cell_type": "code",
   "execution_count": 3,
   "id": "5f9f5e1e",
   "metadata": {},
   "outputs": [],
   "source": [
    "from pyspark.sql.functions import desc, asc, count, max, when, mean, rank\n",
    "from pyspark.sql.window import Window"
   ]
  },
  {
   "cell_type": "code",
   "execution_count": 7,
   "id": "a5aa3275",
   "metadata": {},
   "outputs": [],
   "source": [
    "#Leemos un cvs\n",
    "df21 = spark.read.option(\"header\", \"true\").csv(\"../datasets/world-happiness-report-2021.csv\")\n",
    "dfAll = spark.read.option(\"header\", \"true\").csv(\"../datasets/world-happiness-report.csv\")"
   ]
  },
  {
   "cell_type": "code",
   "execution_count": 6,
   "id": "7a1edafd",
   "metadata": {},
   "outputs": [
    {
     "name": "stdout",
     "output_type": "stream",
     "text": [
      "root\n",
      " |-- Country name: string (nullable = true)\n",
      " |-- Regional indicator: string (nullable = true)\n",
      " |-- Ladder score: string (nullable = true)\n",
      " |-- Standard error of ladder score: string (nullable = true)\n",
      " |-- upperwhisker: string (nullable = true)\n",
      " |-- lowerwhisker: string (nullable = true)\n",
      " |-- Logged GDP per capita: string (nullable = true)\n",
      " |-- Social support: string (nullable = true)\n",
      " |-- Healthy life expectancy: string (nullable = true)\n",
      " |-- Freedom to make life choices: string (nullable = true)\n",
      " |-- Generosity: string (nullable = true)\n",
      " |-- Perceptions of corruption: string (nullable = true)\n",
      " |-- Ladder score in Dystopia: string (nullable = true)\n",
      " |-- Explained by: Log GDP per capita: string (nullable = true)\n",
      " |-- Explained by: Social support: string (nullable = true)\n",
      " |-- Explained by: Healthy life expectancy: string (nullable = true)\n",
      " |-- Explained by: Freedom to make life choices: string (nullable = true)\n",
      " |-- Explained by: Generosity: string (nullable = true)\n",
      " |-- Explained by: Perceptions of corruption: string (nullable = true)\n",
      " |-- Dystopia + residual: string (nullable = true)\n",
      "\n"
     ]
    }
   ],
   "source": [
    "#Esquema de los datos\n",
    "df21.printSchema()"
   ]
  },
  {
   "cell_type": "markdown",
   "id": "a61f7973",
   "metadata": {},
   "source": [
    "1. ¿Cuál es el país más “feliz” del 2021 según la data? (considerar que la columna “Ladder score”\n",
    "mayor número más feliz es el país)"
   ]
  },
  {
   "cell_type": "code",
   "execution_count": 90,
   "id": "82736a49",
   "metadata": {},
   "outputs": [
    {
     "name": "stdout",
     "output_type": "stream",
     "text": [
      "+------------+------------+\n",
      "|Country name|Ladder score|\n",
      "+------------+------------+\n",
      "|     Finland|       7.842|\n",
      "+------------+------------+\n",
      "only showing top 1 row\n",
      "\n"
     ]
    }
   ],
   "source": [
    "happiestCountry21 = df21.select('Country name', 'Ladder score').orderBy(desc('Ladder score')).show(1)"
   ]
  },
  {
   "cell_type": "code",
   "execution_count": 69,
   "id": "c3d10ae9",
   "metadata": {},
   "outputs": [
    {
     "name": "stdout",
     "output_type": "stream",
     "text": [
      "+----------------------------------+------------------------+------------+\n",
      "|Regional indicator                |Country name            |Ladder score|\n",
      "+----------------------------------+------------------------+------------+\n",
      "|Western Europe                    |Finland                 |7.842       |\n",
      "|North America and ANZ             |New Zealand             |7.277       |\n",
      "|Middle East and North Africa      |Israel                  |7.157       |\n",
      "|Latin America and Caribbean       |Costa Rica              |7.069       |\n",
      "|Central and Eastern Europe        |Czech Republic          |6.965       |\n",
      "|East Asia                         |Taiwan Province of China|6.584       |\n",
      "|Southeast Asia                    |Singapore               |6.377       |\n",
      "|Commonwealth of Independent States|Uzbekistan              |6.179       |\n",
      "|Sub-Saharan Africa                |Mauritius               |6.049       |\n",
      "|South Asia                        |Nepal                   |5.269       |\n",
      "+----------------------------------+------------------------+------------+\n",
      "\n"
     ]
    }
   ],
   "source": [
    "#2. ¿Cuál es el país más “feliz” del 2021 por continente según la data?\n",
    "\n",
    "# Agrupar los datos por \"Regional indicator\" y encontrar la puntuación máxima de felicidad\n",
    "max_scores = df21.groupBy(\"Regional indicator\").agg(max(\"Ladder score\").alias(\"max_score\"))\n",
    "\n",
    "# Unir el DataFrame original con los resultados de la agrupación para obtener los detalles del país\n",
    "top_countries = df21.join(max_scores, [\"Regional indicator\"], \"inner\") \\\n",
    "    .where(df21[\"Ladder score\"] == max_scores[\"max_score\"]) \\\n",
    "    .select(\"Regional indicator\", \"Country name\", \"Ladder score\") \\\n",
    "    #.withColumnRenamed(\"Ladder score\", \"Happiest\")\n",
    "\n",
    "# Mostrar los resultados\n",
    "top_countries.show(truncate=False)"
   ]
  },
  {
   "cell_type": "code",
   "execution_count": 8,
   "id": "304e954d",
   "metadata": {},
   "outputs": [
    {
     "name": "stdout",
     "output_type": "stream",
     "text": [
      "root\n",
      " |-- Country name: string (nullable = true)\n",
      " |-- year: string (nullable = true)\n",
      " |-- Life Ladder: string (nullable = true)\n",
      " |-- Log GDP per capita: string (nullable = true)\n",
      " |-- Social support: string (nullable = true)\n",
      " |-- Healthy life expectancy at birth: string (nullable = true)\n",
      " |-- Freedom to make life choices: string (nullable = true)\n",
      " |-- Generosity: string (nullable = true)\n",
      " |-- Perceptions of corruption: string (nullable = true)\n",
      " |-- Positive affect: string (nullable = true)\n",
      " |-- Negative affect: string (nullable = true)\n",
      "\n"
     ]
    }
   ],
   "source": [
    "#Esquema de los datos\n",
    "dfAll.printSchema()"
   ]
  },
  {
   "cell_type": "code",
   "execution_count": 77,
   "id": "f67b107b",
   "metadata": {
    "scrolled": true
   },
   "outputs": [
    {
     "name": "stdout",
     "output_type": "stream",
     "text": [
      "+------------+-----+\n",
      "|Country name|count|\n",
      "+------------+-----+\n",
      "|     Denmark|    7|\n",
      "|     Finland|    6|\n",
      "|      Norway|    1|\n",
      "| Switzerland|    1|\n",
      "|      Canada|    1|\n",
      "+------------+-----+\n",
      "\n"
     ]
    }
   ],
   "source": [
    "#3. ¿Cuál es el país que más veces ocupó el primer lugar en todos los años?\n",
    "\n",
    "max_of_year = dfAll.groupBy(\"year\").agg(max(\"Life Ladder\").alias(\"max_score\"))\n",
    "\n",
    "top_of_year = dfAll.join(max_of_year, [\"year\"], \"inner\") \\\n",
    ".where(dfAll[\"Life Ladder\"] == max_of_year[\"max_score\"]) \\\n",
    ".select(\"year\", \"max_score\", \"Country name\") \\\n",
    ".orderBy(desc(\"year\"))\n",
    "\n",
    "country_counts = top_of_year.groupBy(\"Country name\").agg(count(\"Country name\").alias(\"count\")) \\\n",
    ".orderBy(desc(\"count\")).show()"
   ]
  },
  {
   "cell_type": "code",
   "execution_count": 55,
   "id": "db79fd9d",
   "metadata": {
    "scrolled": true
   },
   "outputs": [
    {
     "name": "stdout",
     "output_type": "stream",
     "text": [
      "+------------------+------------+-----------+----+\n",
      "|Log GDP per capita|Country name|Life Ladder|Rank|\n",
      "+------------------+------------+-----------+----+\n",
      "|            11.323|     Ireland|      7.035|  13|\n",
      "+------------------+------------+-----------+----+\n",
      "only showing top 1 row\n",
      "\n"
     ]
    }
   ],
   "source": [
    "#4. ¿Qué puesto de Felicidad tiene el país con mayor GDP del 2020?\n",
    "\n",
    "df20 = dfAll.filter(dfAll.year == \"2020\")\n",
    "df20.withColumn(\"Log GDP per capita\",df20['Log GDP per capita'].cast(\"double\")) \\\n",
    ".withColumn(\"Life Ladder\", df20[\"Life Ladder\"].cast(\"double\")) \\\n",
    ".withColumn(\"Rank\", rank().over(Window.orderBy(desc(\"Life Ladder\")))) \\\n",
    ".orderBy(desc(\"Log GDP per capita\")) \\\n",
    ".select(\"Log GDP per capita\", \"Country name\", \"Life Ladder\", \"Rank\").show(1)\n",
    "\n"
   ]
  },
  {
   "cell_type": "code",
   "execution_count": 83,
   "id": "6a949044",
   "metadata": {},
   "outputs": [
    {
     "name": "stdout",
     "output_type": "stream",
     "text": [
      "El GDP promedio disminuyó un 3.27 % de 2020 a 2021.\n"
     ]
    }
   ],
   "source": [
    "#5. ¿En que porcentaje a variado a nivel mundial el GDP promedio del 2020 respecto al 2021? ¿Aumentó o disminuyó?\n",
    "\n",
    "GDPmean20 = df20.filter(df20[\"Log GDP per capita\"].isNotNull()) \\\n",
    ".agg(mean(\"Log GDP per capita\").alias(\"GDPmean20\")) \\\n",
    ".collect()[0][\"GDPmean20\"]\n",
    "\n",
    "GDPmean21 = df21.filter(df21[\"Logged GDP per capita\"].isNotNull()) \\\n",
    ".agg(mean(\"Logged GDP per capita\").alias(\"GDPmean21\")) \\\n",
    ".collect()[0][\"GDPmean21\"]\n",
    "\n",
    "variation_percent = ((GDPmean21 - GDPmean20) / GDPmean20) * 100\n",
    "rounded_variation_percent = abs(round(variation_percent, 2))\n",
    "\n",
    "if variation_percent > 0:\n",
    "    print(f\"El GDP promedio aumentó un {rounded_variation_percent} % de 2020 a 2021.\")\n",
    "else:\n",
    "    print(f\"El GDP promedio disminuyó un {rounded_variation_percent} % de 2020 a 2021.\")"
   ]
  },
  {
   "cell_type": "code",
   "execution_count": 84,
   "id": "0b8a7bb8",
   "metadata": {},
   "outputs": [
    {
     "name": "stdout",
     "output_type": "stream",
     "text": [
      "Singapore\n",
      "+--------------------------------+-----------+\n",
      "|Healthy life expectancy at birth|Life Ladder|\n",
      "+--------------------------------+-----------+\n",
      "|                          77.100|      6.378|\n",
      "+--------------------------------+-----------+\n",
      "\n"
     ]
    }
   ],
   "source": [
    "# 6. ¿Cuál es el país con mayor expectativa de vide (“Healthy life expectancy at birth”)? Y ¿Cuánto tenia en ese indicador en el 2019?\n",
    "\n",
    "helthy_country = df21.select(\"Country name\").orderBy(desc(\"Healthy life expectancy\")).first()[0]\n",
    "print(helthy_country)\n",
    "dfAll.where(dfAll[\"Country name\"] == helthy_country).where(dfAll[\"year\"] == \"2019\").select(\"Healthy life expectancy at birth\", \"Life Ladder\").show()"
   ]
  }
 ],
 "metadata": {
  "kernelspec": {
   "display_name": "Python 3 (ipykernel)",
   "language": "python",
   "name": "python3"
  },
  "language_info": {
   "codemirror_mode": {
    "name": "ipython",
    "version": 3
   },
   "file_extension": ".py",
   "mimetype": "text/x-python",
   "name": "python",
   "nbconvert_exporter": "python",
   "pygments_lexer": "ipython3",
   "version": "3.9.12"
  },
  "varInspector": {
   "cols": {
    "lenName": 16,
    "lenType": 16,
    "lenVar": 40
   },
   "kernels_config": {
    "python": {
     "delete_cmd_postfix": "",
     "delete_cmd_prefix": "del ",
     "library": "var_list.py",
     "varRefreshCmd": "print(var_dic_list())"
    },
    "r": {
     "delete_cmd_postfix": ") ",
     "delete_cmd_prefix": "rm(",
     "library": "var_list.r",
     "varRefreshCmd": "cat(var_dic_list()) "
    }
   },
   "types_to_exclude": [
    "module",
    "function",
    "builtin_function_or_method",
    "instance",
    "_Feature"
   ],
   "window_display": false
  }
 },
 "nbformat": 4,
 "nbformat_minor": 5
}
